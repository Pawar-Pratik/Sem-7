{
 "cells": [
  {
   "cell_type": "code",
   "execution_count": 2,
   "id": "ad083266-1db8-4b9e-a822-881285ead298",
   "metadata": {},
   "outputs": [
    {
     "name": "stdout",
     "output_type": "stream",
     "text": [
      "Local minimum: -2.9999995787508333\n"
     ]
    }
   ],
   "source": [
    "import numpy as np\n",
    "\n",
    "# Define the function\n",
    "def f(x):\n",
    "    return (x + 3)**2\n",
    "\n",
    "# Define the gradient of the function\n",
    "def df(x):\n",
    "    return 2 * (x + 3)\n",
    "\n",
    "# Initialize variables\n",
    "x = 2  # Initial point\n",
    "learning_rate = 0.1  # Step size\n",
    "epsilon = 1e-6  # Convergence threshold\n",
    "\n",
    "# Run the gradient descent algorithm\n",
    "while True:\n",
    "    # Calculate the gradient at the current point\n",
    "    gradient = df(x)\n",
    "\n",
    "    # Update the position\n",
    "    x_new = x - learning_rate * gradient\n",
    "\n",
    "    # Check for convergence\n",
    "    if abs(gradient) < epsilon:\n",
    "        break\n",
    "\n",
    "    # Update the current point\n",
    "    x = x_new\n",
    "\n",
    "# Print the local minimum\n",
    "print(\"Local minimum:\", x)"
   ]
  },
  {
   "cell_type": "code",
   "execution_count": null,
   "id": "316b4c61-787b-43cd-9bd4-06d48610a78f",
   "metadata": {},
   "outputs": [],
   "source": []
  }
 ],
 "metadata": {
  "kernelspec": {
   "display_name": "Python 3 (ipykernel)",
   "language": "python",
   "name": "python3"
  },
  "language_info": {
   "codemirror_mode": {
    "name": "ipython",
    "version": 3
   },
   "file_extension": ".py",
   "mimetype": "text/x-python",
   "name": "python",
   "nbconvert_exporter": "python",
   "pygments_lexer": "ipython3",
   "version": "3.12.0"
  }
 },
 "nbformat": 4,
 "nbformat_minor": 5
}
