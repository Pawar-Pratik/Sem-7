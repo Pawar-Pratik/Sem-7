{
 "cells": [
  {
   "cell_type": "code",
   "execution_count": null,
   "id": "75b9da58-f6c1-4fd5-8186-667a11fd603f",
   "metadata": {},
   "outputs": [],
   "source": [
    "import pandas as pd\n",
    "import numpy as np\n",
    "import matplotlib.pyplot as plt\n",
    "from sklearn.cluster import KMeans\n",
    "import warnings\n",
    "warnings.filterwarnings('ignore')\n",
    "----------------------\n",
    "df = pd.read_csv(\"sales_data_sample.csv\", sep=\",\", encoding='Latin-1')\n",
    "df\n",
    "----------------\n",
    "df.info()\n",
    "----------------\n",
    "df.isnull().sum()\n",
    "--------------\n",
    "df.describe()\n",
    "----------------\n",
    "X = df.iloc[:, [3,4]].values\n",
    "----------------\n",
    "wcss = []   #within cluster sum of square\n",
    "\n",
    "for i in range(1,11):\n",
    "#init argument is the method for initializing the centroid\n",
    "kmeans = KMeans(n_clusters=i, init=\"k-means++\", random_state=42)\n",
    "kmeans.fit(X)\n",
    "#we calculate wcss value for each k value\n",
    "wcss.append(kmeans.inertia_)\n",
    "    \n",
    "ks = [1,2,3,4,5,6,7,8,9,10]\n",
    "plt.plot(ks, wcss, 'bx-')\n",
    "plt.title(\"Elbow method\")\n",
    "plt.xticks(ks)\n",
    "plt.xlabel(\"K value\")\n",
    "plt.ylabel(\"WCSS\")\n",
    "--------------------\n",
    "# mean is far from std this indicates high variance \n",
    "from sklearn.preprocessing import StandardScaler\n",
    "ss = StandardScaler()\n",
    "scaled = ss.fit_transform(X)\n",
    "------------------------\n",
    "wcss =[]\n",
    "\n",
    "for i in range(1,11):\n",
    "clustering = KMeans(n_clusters=i, init=\"k-means++\", random_state=42)\n",
    "clustering.fit(scaled)\n",
    "wcss.append(clustering.inertia_)\n",
    "    \n",
    "ks = [1,2,3,4,5,6,7,8,9,10]\n",
    "plt.plot(ks, wcss, 'bx-')\n",
    "plt.title(\"Elbow method\")\n",
    "plt.xticks(ks)\n",
    "plt.xlabel(\"K value\")\n",
    "plt.ylabel(\"WCSS\")\n",
    "-----------------------"
   ]
  }
 ],
 "metadata": {
  "kernelspec": {
   "display_name": "Python 3 (ipykernel)",
   "language": "python",
   "name": "python3"
  },
  "language_info": {
   "codemirror_mode": {
    "name": "ipython",
    "version": 3
   },
   "file_extension": ".py",
   "mimetype": "text/x-python",
   "name": "python",
   "nbconvert_exporter": "python",
   "pygments_lexer": "ipython3",
   "version": "3.12.0"
  }
 },
 "nbformat": 4,
 "nbformat_minor": 5
}
